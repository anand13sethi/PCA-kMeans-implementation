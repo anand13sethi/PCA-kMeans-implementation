{
 "cells": [
  {
   "cell_type": "code",
   "execution_count": 1,
   "metadata": {},
   "outputs": [],
   "source": [
    "import pandas as pd\n",
    "import numpy as np\n",
    "import math\n",
    "from collections import OrderedDict\n",
    "from sklearn.mixture import GaussianMixture\n",
    "from sklearn.cluster import AgglomerativeClustering\n",
    "import copy"
   ]
  },
  {
   "cell_type": "code",
   "execution_count": 2,
   "metadata": {},
   "outputs": [],
   "source": [
    "data = pd.read_csv(\"data.csv\")\n",
    "#data"
   ]
  },
  {
   "cell_type": "code",
   "execution_count": 3,
   "metadata": {},
   "outputs": [
    {
     "name": "stdout",
     "output_type": "stream",
     "text": [
      "0\n",
      "1\n",
      "2\n",
      "3\n",
      "4\n",
      "5\n",
      "6\n",
      "7\n",
      "8\n",
      "9\n",
      "10\n",
      "11\n",
      "12\n",
      "13\n",
      "14\n",
      "15\n",
      "16\n",
      "17\n",
      "18\n",
      "19\n",
      "20\n",
      "Purity of cluster  0.5220165922144224\n",
      "Purity of cluster  0.4617467840216655\n",
      "Purity of cluster  0.9732338308457712\n",
      "Purity of cluster  0.786692759295499\n",
      "Purity of cluster  0.992992700729927\n",
      "Average Purity is :  0.863229058324666\n"
     ]
    }
   ],
   "source": [
    "def mean_square_error(original,predicted):\n",
    "    return np.square(np.subtract(original,predicted)).mean()\n",
    "\n",
    "y_label = data['xAttack']\n",
    "new_data = copy.deepcopy(data)\n",
    "data = data.drop(labels = 'xAttack',axis = 1)\n",
    "\n",
    "original_array = np.array(data)\n",
    "\n",
    "col_mean = np.mean(original_array,axis = 0)\n",
    "std_div = np.std(original_array,axis = 0)\n",
    "\n",
    "for i in range(original_array.shape[0]):\n",
    "    original_array[i] = (original_array[i] - col_mean)\n",
    "    original_array[i] = original_array[i]/std_div\n",
    "\n",
    "covariance = np.cov(original_array,rowvar= False)\n",
    "\n",
    "eigen_val,eigen_vec = np.linalg.eig(covariance)\n",
    "\n",
    "ids = eigen_val.argsort()[::-1] # sorting in descending order\n",
    "#print(ids)\n",
    "\n",
    "eigen_val = eigen_val[ids]\n",
    "eigen_vec = eigen_vec[:,ids]\n",
    "\n",
    "eigen_sum = sum(eigen_val)\n",
    "\n",
    "total_sum = 0\n",
    "# for i in range(len(ids)):\n",
    "#     projections = np.matmul(original_array,eigen_vec[:,:i])\n",
    "#     reconstructed_data = np.matmul(projections,eigen_vec[:,:i].T)\n",
    "#     mean_error = mean_square_error(original_array,reconstructed_data)\n",
    "#     print(mean_error)\n",
    "\n",
    "projections = np.matmul(original_array,eigen_vec[:,:15])\n",
    "#print(projections)\n",
    "\n",
    "cluster_no = 5\n",
    "iter_count = 1000\n",
    "\n",
    "# finiding the number of unique output labels\n",
    "unique_output = y_label.unique()\n",
    "\n",
    "label_map = {}\n",
    "\n",
    "for i in range(5):\n",
    "    # Assigning output label as 0,1,2,3 and 4\n",
    "    label_map[unique_output[i]] = i\n",
    "\n",
    "\n",
    "centroids = dict()\n",
    "output_label = dict()\n",
    "\n",
    "centroids[0] = projections[0]\n",
    "centroids[1] = projections[1]\n",
    "centroids[2] = projections[2]\n",
    "centroids[3] = projections[3]\n",
    "centroids[4] = projections[4]\n",
    "# Randomly assigning initial centroids\n",
    "\n",
    "for i in range(iter_count):\n",
    "    cluster = dict()\n",
    "    output_label.clear()\n",
    "    \n",
    "    for j in range(cluster_no):\n",
    "        cluster[j] = list()\n",
    "        output_label[j] = list()\n",
    "        \n",
    "        for k in range(cluster_no):\n",
    "            output_label[j].append(0)\n",
    "        \n",
    "    for j,l in zip(projections,range(projections.shape[0])):\n",
    "        dist = []\n",
    "        for cen in centroids:\n",
    "            dist.append(np.linalg.norm(j - centroids[cen]))\n",
    "            \n",
    "        classify = dist.index(min(dist))\n",
    "        cluster[classify].append(j)\n",
    "            \n",
    "        output_label[classify][label_map[y_label[l]]]+= 1\n",
    "        \n",
    "    previous_value = {}\n",
    "        \n",
    "    for j in range(cluster_no):\n",
    "        previous_value[j] = centroids[j]\n",
    "        average = np.mean(cluster[j],axis = 0)\n",
    "        centroids[j] = average\n",
    "        \n",
    "    convergence_test = True\n",
    "        \n",
    "    for j in range(cluster_no):\n",
    "        if np.sum(abs(previous_value[j] - centroids[j])/abs(centroids[j]) * 100) > 0.001:\n",
    "            convergence_test = False\n",
    "        \n",
    "    if convergence_test == True:\n",
    "        break\n",
    "        \n",
    "    print(i)\n",
    "\n",
    "for iteration in range(cluster_no):\n",
    "    total = np.sum(output_label[iteration])\n",
    "    max_value = max(output_label[iteration])\n",
    "    \n",
    "    print(\"Purity of cluster \",max_value/total)\n",
    "\n",
    "\n",
    "avg_purity = 0.0\n",
    "for i in range(cluster_no):\n",
    "    total = np.sum(output_label[i])\n",
    "    max_value = max(output_label[i])\n",
    "    cluster_purity = max_value/total\n",
    "    percent = (total * cluster_purity)/float(len(new_data))\n",
    "    avg_purity = avg_purity + percent\n",
    "\n",
    "print(\"Average Purity is : \",avg_purity)\n"
   ]
  },
  {
   "cell_type": "markdown",
   "metadata": {},
   "source": [
    "# Part 3"
   ]
  },
  {
   "cell_type": "code",
   "execution_count": 4,
   "metadata": {},
   "outputs": [
    {
     "name": "stdout",
     "output_type": "stream",
     "text": [
      "Cluster with label dos purity percentage is  1.0\n",
      "Cluster with label normal purity percentage is  0.4940079893475366\n",
      "Cluster with label normal purity percentage is  0.4906244310941198\n",
      "Cluster with label normal purity percentage is  0.8622936576889662\n",
      "Cluster with label r2l purity percentage is  0.6666666666666666\n",
      "Average Purity is :  0.7941835346827747\n"
     ]
    }
   ],
   "source": [
    "GMM = GaussianMixture(n_components=5)\n",
    "clusters = GMM.fit_predict(projections)\n",
    "new_data['clusters'] = clusters\n",
    "dict_max = {}\n",
    "average = 0.0\n",
    "for i in range(5):\n",
    "    t = new_data[new_data['clusters'] == i]\n",
    "    #print(t)\n",
    "    dict_max[i] = t.groupby('xAttack')['clusters'].count().idxmax()\n",
    "    percent = len(t[t['xAttack'] == dict_max[i]])/float(len(t))\n",
    "    average = average + (percent * len(t))/len(new_data)\n",
    "    \n",
    "    print(\"Cluster with label\",dict_max[i] + \" purity percentage is \",str(percent))\n",
    "\n",
    "print(\"Average Purity is : \",average)"
   ]
  },
  {
   "cell_type": "markdown",
   "metadata": {},
   "source": [
    "# Part 4"
   ]
  },
  {
   "cell_type": "code",
   "execution_count": 5,
   "metadata": {},
   "outputs": [
    {
     "name": "stdout",
     "output_type": "stream",
     "text": [
      "Cluster with label normal purity percentage is  0.5346352395053824\n",
      "Cluster with label probe purity percentage is  1.0\n",
      "Cluster with label r2l purity percentage is  0.6666666666666666\n",
      "Cluster with label normal purity percentage is  1.0\n",
      "Cluster with label normal purity percentage is  1.0\n",
      "Average Purity is :  0.5347227778222257\n"
     ]
    }
   ],
   "source": [
    "clustering = AgglomerativeClustering(n_clusters=5,linkage='single')\n",
    "clusters = clustering.fit_predict(projections)\n",
    "new_data['clusters'] = clusters\n",
    "dict_max = {}\n",
    "average1 = 0.0\n",
    "for i in range(5):\n",
    "    t = new_data[new_data['clusters'] == i]\n",
    "    #print(t)\n",
    "    dict_max[i] = t.groupby('xAttack')['clusters'].count().idxmax()\n",
    "    percent = len(t[t['xAttack'] == dict_max[i]])/float(len(t))\n",
    "    average1 = average1 + (percent * len(t))/len(new_data)\n",
    "    \n",
    "    print(\"Cluster with label\",dict_max[i] + \" purity percentage is \",str(percent))\n",
    "\n",
    "print(\"Average Purity is : \",average1)"
   ]
  },
  {
   "cell_type": "markdown",
   "metadata": {},
   "source": [
    "# Plotting the Pie-Chart"
   ]
  },
  {
   "cell_type": "code",
   "execution_count": 7,
   "metadata": {},
   "outputs": [
    {
     "data": {
      "image/png": "[encoded data removed]",
      "text/plain": [
       "<Figure size 720x720 with 1 Axes>"
      ]
     },
     "metadata": {},
     "output_type": "display_data"
    }
   ],
   "source": [
    "import matplotlib.pyplot as plt\n",
    "labels = 'K-Means', 'GMM', 'Agglomerative Clustering'\n",
    "input_list = [avg_purity,average,average1]\n",
    "colors = ['red','blue','green']\n",
    "explode = (0.05, 0.05, 0.05)\n",
    " \n",
    "plt.figure(figsize=(10,10))\n",
    "plt.pie(input_list, explode=explode, labels=labels, colors=colors,\n",
    "autopct='%f%%', shadow=True, startangle=180)\n",
    " \n",
    "plt.axis('equal')\n",
    "plt.show()\n"
   ]
  },
  {
   "cell_type": "code",
   "execution_count": null,
   "metadata": {},
   "outputs": [],
   "source": []
  }
 ],
 "metadata": {
  "kernelspec": {
   "display_name": "Python 3",
   "language": "python",
   "name": "python3"
  },
  "language_info": {
   "codemirror_mode": {
    "name": "ipython",
    "version": 3
   },
   "file_extension": ".py",
   "mimetype": "text/x-python",
   "name": "python",
   "nbconvert_exporter": "python",
   "pygments_lexer": "ipython3",
   "version": "3.5.2"
  }
 },
 "nbformat": 4,
 "nbformat_minor": 2
}
