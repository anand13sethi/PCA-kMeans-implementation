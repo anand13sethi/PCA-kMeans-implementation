{
 "cells": [
  {
   "cell_type": "code",
   "execution_count": 18,
   "metadata": {},
   "outputs": [],
   "source": [
    "import numpy as np\n",
    "import pandas as pd\n",
    "import matplotlib.pyplot as plt\n",
    "import random\n",
    "from pprint import pprint\n",
    "import copy\n",
    "import operator\n",
    "import math\n",
    "from sklearn import metrics"
   ]
  },
  {
   "cell_type": "code",
   "execution_count": 19,
   "metadata": {},
   "outputs": [],
   "source": [
    "df = pd.read_csv(\"adm_data.csv\")\n",
    "train_df=df.sample(frac=0.8,random_state=200)\n",
    "test_df=df.drop(train_df.index)\n",
    "train_label = train_df['Chance of Admit ']\n",
    "train_df = train_df.drop('Chance of Admit ',axis = 1)\n",
    "test_label = test_df['Chance of Admit ']\n",
    "test_df = test_df.drop('Chance of Admit ',axis = 1)\n",
    "\n",
    "train_df = train_df.drop('Serial No.',axis = 1)\n",
    "test_df = test_df.drop('Serial No.',axis = 1)\n",
    "\n",
    "train_df = (train_df - train_df.mean())/train_df.std()\n",
    "test_df = (test_df - test_df.mean())/test_df.std()\n",
    "\n",
    "train_label[train_label >= 0.5] = 1\n",
    "train_label[train_label < 0.5] = 0\n",
    "test_label[test_label >= 0.5] = 1\n",
    "test_label[test_label < 0.5] = 0\n",
    "\n",
    "# Convert into numpy array's\n",
    "\n",
    "train_label = [train_label]\n",
    "train_label = np.array(train_label)\n",
    "train_label = train_label.T"
   ]
  },
  {
   "cell_type": "code",
   "execution_count": 20,
   "metadata": {},
   "outputs": [
    {
     "name": "stdout",
     "output_type": "stream",
     "text": [
      "Accuracy :  0.9777777777777777\n"
     ]
    }
   ],
   "source": [
    "# Appending 1 to training and testing data frame\n",
    "one_list = []\n",
    "for i in range(len(train_df)):\n",
    "    one_list.append(1)\n",
    "\n",
    "train_df.insert(0,'Ones',one_list,allow_duplicates=False)\n",
    "\n",
    "one_test_list = []\n",
    "for i in range(len(test_df)):\n",
    "    one_test_list.append(1)\n",
    "\n",
    "test_df.insert(0,'Ones',one_test_list,allow_duplicates=False)\n",
    "\n",
    "train_df = train_df.values # Converting it to a 2D matrix of size 360 * 8\n",
    "\n",
    "beta = np.zeros((train_df.shape[1],1))  # Creating a beta 2d matrix of size 8 * 1 with all zeros in it\n",
    "\n",
    "def sigmoid(z):\n",
    "    return 1/(1 + np.exp(-z))\n",
    "\n",
    "def dot_product(x,beta):\n",
    "    return np.dot(x,beta)\n",
    "\n",
    "def gradient(beta,x,y):\n",
    "    m = x.shape[0]\n",
    "    X_beta = dot_product(x,beta)\n",
    "    \n",
    "    return np.dot(x.T,sigmoid(X_beta) - y)\n",
    "\n",
    "def gradient_descent(beta,x,learing_rate,threshold,iter_count,y):\n",
    "    \n",
    "    m = y.shape[0]\n",
    "    for i in range(iter_count):\n",
    "        old_beta = copy.deepcopy(beta)\n",
    "        \n",
    "        temp = gradient(beta,x,y)\n",
    "        beta = beta - (learing_rate * temp / m)\n",
    "        \n",
    "        #convergence_test = True\n",
    "        \n",
    "#         for j in range(len(beta)):\n",
    "#             if abs(old_beta[j][0] - beta[j][0] > threshold):\n",
    "#                 convergence_test = False\n",
    "        \n",
    "#         if convergence_test:\n",
    "#             break\n",
    "            \n",
    "    return beta\n",
    "\n",
    "\n",
    "beta = gradient_descent(beta,train_df,0.01,0.0001,500,train_label)\n",
    "\n",
    "test_array = dot_product(test_df,beta)\n",
    "test_array = np.array(test_array)\n",
    "#print(test_array)\n",
    "predicted = sigmoid(test_array)\n",
    "#print(predicted)\n",
    "predicted[predicted >= 0.5] = 1\n",
    "predicted[predicted < 0.5] = 0\n",
    "\n",
    "test_label = np.array(test_label).T\n",
    "accuracy = len([1 for x in range(len(test_label)) if test_label[x] == predicted[x]])/len(test_label)\n",
    "print(\"Accuracy : \",accuracy)\n",
    "#predicted"
   ]
  },
  {
   "cell_type": "markdown",
   "metadata": {},
   "source": [
    "# PART 2"
   ]
  },
  {
   "cell_type": "code",
   "execution_count": 21,
   "metadata": {},
   "outputs": [],
   "source": [
    "def euclidean(arg1,arg2,length):\n",
    "    distance = 0\n",
    "    for i in range(length):\n",
    "        distance = distance + np.square(arg1[i] - arg2[i])\n",
    "    return np.sqrt(distance)"
   ]
  },
  {
   "cell_type": "code",
   "execution_count": 22,
   "metadata": {},
   "outputs": [],
   "source": [
    "df = pd.read_csv(\"adm_data.csv\")\n",
    "df.loc[df['Chance of Admit '] >= 0.5, 'Chance of Admit '] = 1\n",
    "df.loc[df['Chance of Admit '] < 0.5, 'Chance of Admit '] = 0\n",
    "train = df.sample(frac=0.8, random_state=200)\n",
    "validation = df.drop(train.index)\n",
    "train = train.drop('Serial No.',axis = 1)\n",
    "validation = validation.drop('Serial No.',axis = 1)\n",
    "validation_without_class = validation.iloc[:,0:7]\n",
    "#validation_without_class"
   ]
  },
  {
   "cell_type": "code",
   "execution_count": 23,
   "metadata": {},
   "outputs": [
    {
     "name": "stdout",
     "output_type": "stream",
     "text": [
      "Accuracy : 0.9666666666666667\n"
     ]
    }
   ],
   "source": [
    "actual_list = validation['Chance of Admit '].tolist()\n",
    "responses = []\n",
    "\n",
    "def getKneighbors(trainingSet,testInstance,k):\n",
    "    distances = []\n",
    "    length = len(testInstance)-1  # last column ignore\n",
    "    for x,rows in trainingSet.iterrows() :\n",
    "        dist = euclidean(rows,testInstance,length)\n",
    "        distances.append((rows['Chance of Admit '],dist))\n",
    "    \n",
    "    distances.sort(key=operator.itemgetter(1))\n",
    "    neighbor = []\n",
    "    for i in range(k):\n",
    "        neighbor.append(distances[i][0])\n",
    "    \n",
    "    Votes = {}\n",
    "    for x in range(len(neighbor)):\n",
    "        response = neighbor[x]\n",
    "        if response in Votes:\n",
    "            Votes[response] += 1\n",
    "        else:\n",
    "            Votes[response] = 1\n",
    "    \n",
    "    sortedVotes = sorted(Votes.items(),key = operator.itemgetter(1),reverse=True)\n",
    "    return sortedVotes[0][0]\n",
    "\n",
    "for i,rows in validation_without_class.iterrows():\n",
    "    value = getKneighbors(train,rows,11)\n",
    "    responses.append(value)\n",
    "\n",
    "count = 0\n",
    "for i in range(len(responses)):\n",
    "    if responses[i] == actual_list[i]:\n",
    "        count = count + 1\n",
    "        \n",
    "accuracy = count/len(actual_list)\n",
    "\n",
    "print(\"Accuracy :\",accuracy)"
   ]
  },
  {
   "cell_type": "markdown",
   "metadata": {},
   "source": [
    "# Part 3"
   ]
  },
  {
   "cell_type": "code",
   "execution_count": 26,
   "metadata": {},
   "outputs": [
    {
     "name": "stdout",
     "output_type": "stream",
     "text": [
      "[0.30000000000000004, 0.4, 0.5, 0.6000000000000001, 0.7000000000000001]\n",
      "[0.9555555555555556, 0.9555555555555556, 0.9772727272727273, 0.9879518072289156, 1.0]\n",
      "[1.0, 1.0, 1.0, 0.9534883720930233, 0.7906976744186046]\n"
     ]
    }
   ],
   "source": [
    "def changing_data(threshold):\n",
    "    train_df=df.sample(frac=0.8,random_state=200)\n",
    "    test_df=df.drop(train_df.index)\n",
    "    train_label = train_df['Chance of Admit ']\n",
    "    train_df = train_df.drop('Chance of Admit ',axis = 1)\n",
    "    test_label = test_df['Chance of Admit ']\n",
    "    test_df = test_df.drop('Chance of Admit ',axis = 1)\n",
    "\n",
    "    train_df = train_df.drop('Serial No.',axis = 1)\n",
    "    test_df = test_df.drop('Serial No.',axis = 1)\n",
    "\n",
    "    train_df = (train_df - train_df.mean())/train_df.std()\n",
    "    test_df = (test_df - test_df.mean())/test_df.std()\n",
    "\n",
    "    train_label[train_label >= threshold] = 1\n",
    "    train_label[train_label < threshold] = 0\n",
    "    test_label[test_label >= threshold] = 1\n",
    "    test_label[test_label < threshold] = 0\n",
    "    \n",
    "    train_label = [train_label]\n",
    "    train_label = np.array(train_label)\n",
    "    test_label = [test_label]\n",
    "    test_label = np.array(test_label)\n",
    "    train_label = train_label.T\n",
    "    \n",
    "    \n",
    "    one_list = []\n",
    "    for i in range(len(train_df)):\n",
    "        one_list.append(1)\n",
    "\n",
    "    train_df.insert(0,'Ones',one_list,allow_duplicates=False)\n",
    "\n",
    "    one_test_list = []\n",
    "    for i in range(len(test_df)):\n",
    "        one_test_list.append(1)\n",
    "\n",
    "    test_df.insert(0,'Ones',one_test_list,allow_duplicates=False)\n",
    "    \n",
    "    train_df = train_df.values\n",
    "    return train_df,test_df,train_label,test_label\n",
    "\n",
    "threshold = []\n",
    "recall = []\n",
    "precision = []\n",
    "accuracy = []\n",
    "for i in range(3,8):\n",
    "    i = i*0.1\n",
    "    train,test,train_label,test_label = changing_data(i)\n",
    "    #print(train.shape)\n",
    "    #print(test.shape)\n",
    "    #print(train_label.shape)\n",
    "    #print(test_label.shape)\n",
    "    beta = np.zeros((train_df.shape[1],1))\n",
    "    beta = gradient_descent(beta,train,0.01,0.0001,500,train_label)\n",
    "    \n",
    "    test_array = dot_product(test,beta)\n",
    "    test_array = np.array(test_array)\n",
    "    \n",
    "    predicted = sigmoid(test_array)\n",
    "    #print(predicted)\n",
    "    for k in range(len(predicted)):\n",
    "        if predicted[k] >= i:\n",
    "            predicted[k] = 1\n",
    "        else:\n",
    "            predicted[k] = 0\n",
    "\n",
    "    test_label = np.array(test_label).T\n",
    "    accuracy.append(metrics.accuracy_score(test_label,predicted))\n",
    "    #print(metrics.classification_report(test_label,predicted))\n",
    "    precision.append(metrics.precision_score(test_label,predicted))\n",
    "    threshold.append(i)\n",
    "    recall.append(metrics.recall_score(test_label,predicted))\n",
    "    #print(test_label)\n",
    "    #print(predicted)\n",
    "    #pre,rec = calculation(test_label,predicted)\n",
    "    #precision2.append(pre)\n",
    "    #recall2.append(rec)\n",
    "    #threshold.append(i)\n",
    "\n",
    "print(threshold)\n",
    "print(precision)\n",
    "print(recall)\n",
    "\n",
    "    "
   ]
  },
  {
   "cell_type": "code",
   "execution_count": 27,
   "metadata": {},
   "outputs": [
    {
     "data": {
      "image/png": "[encoded data removed]",
      "text/plain": [
       "<Figure size 432x288 with 1 Axes>"
      ]
     },
     "metadata": {},
     "output_type": "display_data"
    }
   ],
   "source": [
    "import matplotlib.pyplot as plt\n",
    "import numpy as np\n",
    "plt.plot(threshold, precision)\n",
    "\n",
    "plt.xlabel('thresold')\n",
    "plt.ylabel('precision')\n",
    "plt.title('Thresold vs precision')\n",
    "plt.grid(True)\n",
    "\n",
    "plt.show()"
   ]
  },
  {
   "cell_type": "code",
   "execution_count": 29,
   "metadata": {},
   "outputs": [
    {
     "data": {
      "image/png": "[encoded data removed]",
      "text/plain": [
       "<Figure size 432x288 with 1 Axes>"
      ]
     },
     "metadata": {},
     "output_type": "display_data"
    }
   ],
   "source": [
    "plt.plot(threshold, recall)\n",
    "\n",
    "plt.xlabel('thresold')\n",
    "plt.ylabel('recall')\n",
    "plt.title('Thresold vs recall')\n",
    "plt.grid(True)\n",
    "\n",
    "plt.show()"
   ]
  },
  {
   "cell_type": "code",
   "execution_count": null,
   "metadata": {},
   "outputs": [],
   "source": []
  }
 ],
 "metadata": {
  "kernelspec": {
   "display_name": "Python 3",
   "language": "python",
   "name": "python3"
  },
  "language_info": {
   "codemirror_mode": {
    "name": "ipython",
    "version": 3
   },
   "file_extension": ".py",
   "mimetype": "text/x-python",
   "name": "python",
   "nbconvert_exporter": "python",
   "pygments_lexer": "ipython3",
   "version": "3.6.5"
  }
 },
 "nbformat": 4,
 "nbformat_minor": 2
}
